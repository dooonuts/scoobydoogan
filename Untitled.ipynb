{
 "cells": [
  {
   "cell_type": "code",
   "execution_count": 6,
   "id": "e2744866-6687-457a-bf3d-0ea67706744e",
   "metadata": {},
   "outputs": [],
   "source": [
    "import os\n",
    "from PIL import Image\n",
    "import torch\n",
    "import torchvision.transforms as transforms\n",
    "\n",
    "folder = \"./dataset/Scooby_Raw/\"\n",
    "# folder = os.path.join(data_dir, opt)\n",
    "files = os.listdir(folder)\n",
    "image_files = [os.path.join(folder, fi) for fi in files if fi.endswith(\".jpg\")]"
   ]
  },
  {
   "cell_type": "code",
   "execution_count": 4,
   "id": "c3c92ae6-0325-4131-8d6d-415ebf2d31c3",
   "metadata": {},
   "outputs": [
    {
     "name": "stdout",
     "output_type": "stream",
     "text": [
      "16334\n"
     ]
    }
   ],
   "source": [
    "print(len(image_files))"
   ]
  },
  {
   "cell_type": "code",
   "execution_count": null,
   "id": "f583fff8-2657-41d4-87dd-4a041e0ab05a",
   "metadata": {},
   "outputs": [],
   "source": [
    "### Crop all images and save to new place\n",
    "transform = transforms.RandomCrop(256,256)\n",
    "for image in image_files:\n",
    "    # print(image[21:])\n",
    "    curr_image = Image.open(image)\n",
    "    # 4 crops per image?\n",
    "    for i in range(4):\n",
    "        image_crop = transform(curr_image)\n",
    "        image_crop.save(\"./dataset/Scooby/style/\"+image[21:-4]+\"_\"+str(i)+\".jpg\")\n",
    "    curr_image.close()"
   ]
  },
  {
   "cell_type": "code",
   "execution_count": null,
   "id": "b78d27e0-b8e6-4146-bd75-844c497ccf88",
   "metadata": {},
   "outputs": [],
   "source": []
  }
 ],
 "metadata": {
  "kernelspec": {
   "display_name": "Python 3 (ipykernel)",
   "language": "python",
   "name": "python3"
  },
  "language_info": {
   "codemirror_mode": {
    "name": "ipython",
    "version": 3
   },
   "file_extension": ".py",
   "mimetype": "text/x-python",
   "name": "python",
   "nbconvert_exporter": "python",
   "pygments_lexer": "ipython3",
   "version": "3.9.16"
  }
 },
 "nbformat": 4,
 "nbformat_minor": 5
}
